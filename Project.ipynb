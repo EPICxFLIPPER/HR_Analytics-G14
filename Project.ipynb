{
 "cells": [
  {
   "cell_type": "markdown",
   "id": "91e18afb-a9f3-4b01-aedf-4836e0cc1cd1",
   "metadata": {
    "tags": []
   },
   "source": [
    "# STAT 301 Group Project\n",
    "## Group 14\n",
    "### Yoonha Jeon"
   ]
  },
  {
   "cell_type": "markdown",
   "id": "f3804966-ca4f-456c-be90-91d1ab93765e",
   "metadata": {},
   "source": [
    "### 1. Read Data"
   ]
  },
  {
   "cell_type": "code",
   "execution_count": 45,
   "id": "c8af1a00-82bd-4cf4-8c8a-39c66060cad8",
   "metadata": {
    "tags": []
   },
   "outputs": [
    {
     "data": {
      "text/html": [
       "<table class=\"dataframe\">\n",
       "<caption>A data.frame: 6 × 35</caption>\n",
       "<thead>\n",
       "\t<tr><th></th><th scope=col>Age</th><th scope=col>Attrition</th><th scope=col>BusinessTravel</th><th scope=col>DailyRate</th><th scope=col>Department</th><th scope=col>DistanceFromHome</th><th scope=col>Education</th><th scope=col>EducationField</th><th scope=col>EmployeeCount</th><th scope=col>EmployeeNumber</th><th scope=col>⋯</th><th scope=col>RelationshipSatisfaction</th><th scope=col>StandardHours</th><th scope=col>StockOptionLevel</th><th scope=col>TotalWorkingYears</th><th scope=col>TrainingTimesLastYear</th><th scope=col>WorkLifeBalance</th><th scope=col>YearsAtCompany</th><th scope=col>YearsInCurrentRole</th><th scope=col>YearsSinceLastPromotion</th><th scope=col>YearsWithCurrManager</th></tr>\n",
       "\t<tr><th></th><th scope=col>&lt;int&gt;</th><th scope=col>&lt;chr&gt;</th><th scope=col>&lt;chr&gt;</th><th scope=col>&lt;int&gt;</th><th scope=col>&lt;chr&gt;</th><th scope=col>&lt;int&gt;</th><th scope=col>&lt;int&gt;</th><th scope=col>&lt;chr&gt;</th><th scope=col>&lt;int&gt;</th><th scope=col>&lt;int&gt;</th><th scope=col>⋯</th><th scope=col>&lt;int&gt;</th><th scope=col>&lt;int&gt;</th><th scope=col>&lt;int&gt;</th><th scope=col>&lt;int&gt;</th><th scope=col>&lt;int&gt;</th><th scope=col>&lt;int&gt;</th><th scope=col>&lt;int&gt;</th><th scope=col>&lt;int&gt;</th><th scope=col>&lt;int&gt;</th><th scope=col>&lt;int&gt;</th></tr>\n",
       "</thead>\n",
       "<tbody>\n",
       "\t<tr><th scope=row>1</th><td>41</td><td>Yes</td><td>Travel_Rarely    </td><td>1102</td><td>Sales                 </td><td>1</td><td>2</td><td>Life Sciences</td><td>1</td><td>1</td><td>⋯</td><td>1</td><td>80</td><td>0</td><td> 8</td><td>0</td><td>1</td><td> 6</td><td>4</td><td>0</td><td>5</td></tr>\n",
       "\t<tr><th scope=row>2</th><td>49</td><td>No </td><td>Travel_Frequently</td><td> 279</td><td>Research &amp; Development</td><td>8</td><td>1</td><td>Life Sciences</td><td>1</td><td>2</td><td>⋯</td><td>4</td><td>80</td><td>1</td><td>10</td><td>3</td><td>3</td><td>10</td><td>7</td><td>1</td><td>7</td></tr>\n",
       "\t<tr><th scope=row>3</th><td>37</td><td>Yes</td><td><span style=white-space:pre-wrap>Travel_Rarely    </span></td><td>1373</td><td>Research &amp; Development</td><td>2</td><td>2</td><td><span style=white-space:pre-wrap>Other        </span></td><td>1</td><td>4</td><td>⋯</td><td>2</td><td>80</td><td>0</td><td> 7</td><td>3</td><td>3</td><td> 0</td><td>0</td><td>0</td><td>0</td></tr>\n",
       "\t<tr><th scope=row>4</th><td>33</td><td>No </td><td>Travel_Frequently</td><td>1392</td><td>Research &amp; Development</td><td>3</td><td>4</td><td>Life Sciences</td><td>1</td><td>5</td><td>⋯</td><td>3</td><td>80</td><td>0</td><td> 8</td><td>3</td><td>3</td><td> 8</td><td>7</td><td>3</td><td>0</td></tr>\n",
       "\t<tr><th scope=row>5</th><td>27</td><td>No </td><td><span style=white-space:pre-wrap>Travel_Rarely    </span></td><td> 591</td><td>Research &amp; Development</td><td>2</td><td>1</td><td><span style=white-space:pre-wrap>Medical      </span></td><td>1</td><td>7</td><td>⋯</td><td>4</td><td>80</td><td>1</td><td> 6</td><td>3</td><td>3</td><td> 2</td><td>2</td><td>2</td><td>2</td></tr>\n",
       "\t<tr><th scope=row>6</th><td>32</td><td>No </td><td>Travel_Frequently</td><td>1005</td><td>Research &amp; Development</td><td>2</td><td>2</td><td>Life Sciences</td><td>1</td><td>8</td><td>⋯</td><td>3</td><td>80</td><td>0</td><td> 8</td><td>2</td><td>2</td><td> 7</td><td>7</td><td>3</td><td>6</td></tr>\n",
       "</tbody>\n",
       "</table>\n"
      ],
      "text/latex": [
       "A data.frame: 6 × 35\n",
       "\\begin{tabular}{r|lllllllllllllllllllll}\n",
       "  & Age & Attrition & BusinessTravel & DailyRate & Department & DistanceFromHome & Education & EducationField & EmployeeCount & EmployeeNumber & ⋯ & RelationshipSatisfaction & StandardHours & StockOptionLevel & TotalWorkingYears & TrainingTimesLastYear & WorkLifeBalance & YearsAtCompany & YearsInCurrentRole & YearsSinceLastPromotion & YearsWithCurrManager\\\\\n",
       "  & <int> & <chr> & <chr> & <int> & <chr> & <int> & <int> & <chr> & <int> & <int> & ⋯ & <int> & <int> & <int> & <int> & <int> & <int> & <int> & <int> & <int> & <int>\\\\\n",
       "\\hline\n",
       "\t1 & 41 & Yes & Travel\\_Rarely     & 1102 & Sales                  & 1 & 2 & Life Sciences & 1 & 1 & ⋯ & 1 & 80 & 0 &  8 & 0 & 1 &  6 & 4 & 0 & 5\\\\\n",
       "\t2 & 49 & No  & Travel\\_Frequently &  279 & Research \\& Development & 8 & 1 & Life Sciences & 1 & 2 & ⋯ & 4 & 80 & 1 & 10 & 3 & 3 & 10 & 7 & 1 & 7\\\\\n",
       "\t3 & 37 & Yes & Travel\\_Rarely     & 1373 & Research \\& Development & 2 & 2 & Other         & 1 & 4 & ⋯ & 2 & 80 & 0 &  7 & 3 & 3 &  0 & 0 & 0 & 0\\\\\n",
       "\t4 & 33 & No  & Travel\\_Frequently & 1392 & Research \\& Development & 3 & 4 & Life Sciences & 1 & 5 & ⋯ & 3 & 80 & 0 &  8 & 3 & 3 &  8 & 7 & 3 & 0\\\\\n",
       "\t5 & 27 & No  & Travel\\_Rarely     &  591 & Research \\& Development & 2 & 1 & Medical       & 1 & 7 & ⋯ & 4 & 80 & 1 &  6 & 3 & 3 &  2 & 2 & 2 & 2\\\\\n",
       "\t6 & 32 & No  & Travel\\_Frequently & 1005 & Research \\& Development & 2 & 2 & Life Sciences & 1 & 8 & ⋯ & 3 & 80 & 0 &  8 & 2 & 2 &  7 & 7 & 3 & 6\\\\\n",
       "\\end{tabular}\n"
      ],
      "text/markdown": [
       "\n",
       "A data.frame: 6 × 35\n",
       "\n",
       "| <!--/--> | Age &lt;int&gt; | Attrition &lt;chr&gt; | BusinessTravel &lt;chr&gt; | DailyRate &lt;int&gt; | Department &lt;chr&gt; | DistanceFromHome &lt;int&gt; | Education &lt;int&gt; | EducationField &lt;chr&gt; | EmployeeCount &lt;int&gt; | EmployeeNumber &lt;int&gt; | ⋯ ⋯ | RelationshipSatisfaction &lt;int&gt; | StandardHours &lt;int&gt; | StockOptionLevel &lt;int&gt; | TotalWorkingYears &lt;int&gt; | TrainingTimesLastYear &lt;int&gt; | WorkLifeBalance &lt;int&gt; | YearsAtCompany &lt;int&gt; | YearsInCurrentRole &lt;int&gt; | YearsSinceLastPromotion &lt;int&gt; | YearsWithCurrManager &lt;int&gt; |\n",
       "|---|---|---|---|---|---|---|---|---|---|---|---|---|---|---|---|---|---|---|---|---|---|\n",
       "| 1 | 41 | Yes | Travel_Rarely     | 1102 | Sales                  | 1 | 2 | Life Sciences | 1 | 1 | ⋯ | 1 | 80 | 0 |  8 | 0 | 1 |  6 | 4 | 0 | 5 |\n",
       "| 2 | 49 | No  | Travel_Frequently |  279 | Research &amp; Development | 8 | 1 | Life Sciences | 1 | 2 | ⋯ | 4 | 80 | 1 | 10 | 3 | 3 | 10 | 7 | 1 | 7 |\n",
       "| 3 | 37 | Yes | Travel_Rarely     | 1373 | Research &amp; Development | 2 | 2 | Other         | 1 | 4 | ⋯ | 2 | 80 | 0 |  7 | 3 | 3 |  0 | 0 | 0 | 0 |\n",
       "| 4 | 33 | No  | Travel_Frequently | 1392 | Research &amp; Development | 3 | 4 | Life Sciences | 1 | 5 | ⋯ | 3 | 80 | 0 |  8 | 3 | 3 |  8 | 7 | 3 | 0 |\n",
       "| 5 | 27 | No  | Travel_Rarely     |  591 | Research &amp; Development | 2 | 1 | Medical       | 1 | 7 | ⋯ | 4 | 80 | 1 |  6 | 3 | 3 |  2 | 2 | 2 | 2 |\n",
       "| 6 | 32 | No  | Travel_Frequently | 1005 | Research &amp; Development | 2 | 2 | Life Sciences | 1 | 8 | ⋯ | 3 | 80 | 0 |  8 | 2 | 2 |  7 | 7 | 3 | 6 |\n",
       "\n"
      ],
      "text/plain": [
       "  Age Attrition BusinessTravel    DailyRate Department            \n",
       "1 41  Yes       Travel_Rarely     1102      Sales                 \n",
       "2 49  No        Travel_Frequently  279      Research & Development\n",
       "3 37  Yes       Travel_Rarely     1373      Research & Development\n",
       "4 33  No        Travel_Frequently 1392      Research & Development\n",
       "5 27  No        Travel_Rarely      591      Research & Development\n",
       "6 32  No        Travel_Frequently 1005      Research & Development\n",
       "  DistanceFromHome Education EducationField EmployeeCount EmployeeNumber ⋯\n",
       "1 1                2         Life Sciences  1             1              ⋯\n",
       "2 8                1         Life Sciences  1             2              ⋯\n",
       "3 2                2         Other          1             4              ⋯\n",
       "4 3                4         Life Sciences  1             5              ⋯\n",
       "5 2                1         Medical        1             7              ⋯\n",
       "6 2                2         Life Sciences  1             8              ⋯\n",
       "  RelationshipSatisfaction StandardHours StockOptionLevel TotalWorkingYears\n",
       "1 1                        80            0                 8               \n",
       "2 4                        80            1                10               \n",
       "3 2                        80            0                 7               \n",
       "4 3                        80            0                 8               \n",
       "5 4                        80            1                 6               \n",
       "6 3                        80            0                 8               \n",
       "  TrainingTimesLastYear WorkLifeBalance YearsAtCompany YearsInCurrentRole\n",
       "1 0                     1                6             4                 \n",
       "2 3                     3               10             7                 \n",
       "3 3                     3                0             0                 \n",
       "4 3                     3                8             7                 \n",
       "5 3                     3                2             2                 \n",
       "6 2                     2                7             7                 \n",
       "  YearsSinceLastPromotion YearsWithCurrManager\n",
       "1 0                       5                   \n",
       "2 1                       7                   \n",
       "3 0                       0                   \n",
       "4 3                       0                   \n",
       "5 2                       2                   \n",
       "6 3                       6                   "
      ]
     },
     "metadata": {},
     "output_type": "display_data"
    }
   ],
   "source": [
    "data <- read.csv(\"Project/HR_Analytics-G14/Data/HR-Employee-Attrition.csv\")\n",
    "head(data)"
   ]
  },
  {
   "cell_type": "code",
   "execution_count": null,
   "id": "fe5f370f-0a95-45ad-b612-b9a711ba4f65",
   "metadata": {},
   "outputs": [],
   "source": []
  }
 ],
 "metadata": {
  "kernelspec": {
   "display_name": "R",
   "language": "R",
   "name": "ir"
  },
  "language_info": {
   "codemirror_mode": "r",
   "file_extension": ".r",
   "mimetype": "text/x-r-source",
   "name": "R",
   "pygments_lexer": "r",
   "version": "4.2.3"
  }
 },
 "nbformat": 4,
 "nbformat_minor": 5
}
