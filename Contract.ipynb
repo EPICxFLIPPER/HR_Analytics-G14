{
 "cells": [
  {
   "cell_type": "markdown",
   "id": "bf6ae8f7-50cf-4f92-bff0-2c70f70b12b8",
   "metadata": {},
   "source": [
    "# Team 14 Group Contract"
   ]
  },
  {
   "cell_type": "markdown",
   "id": "348d1129-5663-4df2-a116-df4b07fdc312",
   "metadata": {},
   "source": [
    "## Contract"
   ]
  },
  {
   "cell_type": "markdown",
   "id": "47fa4a9e-6b0a-4ac7-b3aa-a78ad604bad5",
   "metadata": {},
   "source": [
    "### Goals\n",
    "**1. What are our team goals for this project?**\n",
    "\n",
    "- We aim to grasp every detail of our dataset in order to have a solid conceptual understanding of the dataset.\n",
    "    \n",
    "- We would like to attain a high level of success on each and every part of the rubric throughout the project.\n",
    "\n",
    "**2. What do we want to accomplish?**\n",
    "\n",
    "- We want our project report to be the best representation of the combination of our skill sets through our ideas, conclusions, and discussions.\n",
    "    \n",
    "- We aim to combine each group member’s best performance, time, and effort into a comprehensive project.\n",
    "\n",
    "- We aim to work well as a group but also work well independently when each of us needs to complete our own parts of the project.\n",
    "\n",
    "**3. What skills do we want to develop or refine?**\n",
    "\n",
    "- To be able to independently use linear regression on a given dataset in order to gain insight into relationships in the data.\n",
    "    \n",
    "- Being able to work in a group using cooperation and social skills in order to effectively transfer our knowledge and skills onto our reports.\n",
    "\n",
    "- Being able to effectively communicate research findings to others.\n",
    "\n",
    "\n",
    "**4. Expectations**\n",
    "\n",
    "- We expect each other to return to messages/emails within 24 hours.\n",
    "    \n",
    "- We expect each other to sustain a respectful environment while communicating our thoughts and opinions and providing constructive criticism.\n",
    "    \n",
    "- We expect each other to make our availability (for a meeting, etc.) known to other group members when necessary, and let them know beforehand if something unexpected happens.\n",
    "    \n",
    "- We expect each other to be at meetings no later than 5 minutes past the agreed-upon times (there can be exceptions only if the remainder of the group is notified with a realistic reason).\n",
    "    \n",
    "- We expect to complete assignments at least 2 days before the submission date to allow the group to revise and edit the final document for submission.\n",
    "\n",
    "\n",
    "**5. What do we expect of one another regarding attendance at meetings, participation, frequency of communication, quality of work, etc.?**\n",
    "\n",
    "- We expect frequent meetings and timely communication via iMessage in order to stay on top of this project.\n",
    "\n",
    "- We expect everyone in the group to contribute to the project in the best way they can.\n",
    "\n",
    "- We expect our work to be of high quality, and to produce a result we can be proud of.\n"
   ]
  },
  {
   "cell_type": "markdown",
   "id": "0b3ee3bf-f4b5-4074-b20e-c539258d3652",
   "metadata": {},
   "source": [
    "### Policies & Procedures\n",
    "**What rules can we agree on to help us meet our goals and expectations?**\n",
    "\n",
    "- We will not push bad/poor code or files into the shared GitHub repository.\n",
    "    \n",
    "- We will add comments to our code as much as possible for communication.\n",
    "    \n",
    "- We will not plagiarize any code from any source that includes AI-generated sources, past projects, etc.\n",
    "    \n",
    "- For ideas that affect the group as a whole, we will be using a “majority rules” voting system in order to prevent conflicts, (if we get 2-2, we will take actions for both and then decide which is better for the project, or coin flip to decide whichever to choose).\n",
    "\n",
    "- We will have check ins every so often to ensure that everyone is doing their fair share for the project\n"
   ]
  },
  {
   "cell_type": "markdown",
   "id": "feda4bb5-bb91-4ca0-b5ec-b187853611fb",
   "metadata": {
    "tags": []
   },
   "source": [
    "### Consequences:\n",
    "**How will we address non-performance regarding these goals, expectations, policies and procedures?**\n",
    "\n",
    "We will use a strike system:\n",
    "- Strike 1: We will inform the person as a group about the details of our contract and give them a strict written warning about the consequences of further strikes and possible outcomes.\n",
    "    \n",
    "- Strike 2: We will assess the non/poor - performing situation of the person and evaluate within our group under the guidelines of our contract. Depending on the situation, we will let the teaching team be aware of the issue.\n",
    "    \n",
    "- Strike 3: We will request immediate help from the teaching team to assist us with the ongoing issue of non/poor - performance/participation of the group members.\n"
   ]
  },
  {
   "cell_type": "markdown",
   "id": "d97dddb9-0f6e-4221-a744-f7f417d42c0b",
   "metadata": {},
   "source": [
    "## Data"
   ]
  },
  {
   "cell_type": "code",
   "execution_count": 8,
   "id": "293528c5-f6b6-4768-b0a4-b9d9ccca26a1",
   "metadata": {
    "tags": []
   },
   "outputs": [
    {
     "data": {
      "text/html": [
       "<table class=\"dataframe\">\n",
       "<caption>A data.frame: 6 × 35</caption>\n",
       "<thead>\n",
       "\t<tr><th></th><th scope=col>Age</th><th scope=col>Attrition</th><th scope=col>BusinessTravel</th><th scope=col>DailyRate</th><th scope=col>Department</th><th scope=col>DistanceFromHome</th><th scope=col>Education</th><th scope=col>EducationField</th><th scope=col>EmployeeCount</th><th scope=col>EmployeeNumber</th><th scope=col>⋯</th><th scope=col>RelationshipSatisfaction</th><th scope=col>StandardHours</th><th scope=col>StockOptionLevel</th><th scope=col>TotalWorkingYears</th><th scope=col>TrainingTimesLastYear</th><th scope=col>WorkLifeBalance</th><th scope=col>YearsAtCompany</th><th scope=col>YearsInCurrentRole</th><th scope=col>YearsSinceLastPromotion</th><th scope=col>YearsWithCurrManager</th></tr>\n",
       "\t<tr><th></th><th scope=col>&lt;int&gt;</th><th scope=col>&lt;chr&gt;</th><th scope=col>&lt;chr&gt;</th><th scope=col>&lt;int&gt;</th><th scope=col>&lt;chr&gt;</th><th scope=col>&lt;int&gt;</th><th scope=col>&lt;int&gt;</th><th scope=col>&lt;chr&gt;</th><th scope=col>&lt;int&gt;</th><th scope=col>&lt;int&gt;</th><th scope=col>⋯</th><th scope=col>&lt;int&gt;</th><th scope=col>&lt;int&gt;</th><th scope=col>&lt;int&gt;</th><th scope=col>&lt;int&gt;</th><th scope=col>&lt;int&gt;</th><th scope=col>&lt;int&gt;</th><th scope=col>&lt;int&gt;</th><th scope=col>&lt;int&gt;</th><th scope=col>&lt;int&gt;</th><th scope=col>&lt;int&gt;</th></tr>\n",
       "</thead>\n",
       "<tbody>\n",
       "\t<tr><th scope=row>1</th><td>41</td><td>Yes</td><td>Travel_Rarely    </td><td>1102</td><td>Sales                 </td><td>1</td><td>2</td><td>Life Sciences</td><td>1</td><td>1</td><td>⋯</td><td>1</td><td>80</td><td>0</td><td> 8</td><td>0</td><td>1</td><td> 6</td><td>4</td><td>0</td><td>5</td></tr>\n",
       "\t<tr><th scope=row>2</th><td>49</td><td>No </td><td>Travel_Frequently</td><td> 279</td><td>Research &amp; Development</td><td>8</td><td>1</td><td>Life Sciences</td><td>1</td><td>2</td><td>⋯</td><td>4</td><td>80</td><td>1</td><td>10</td><td>3</td><td>3</td><td>10</td><td>7</td><td>1</td><td>7</td></tr>\n",
       "\t<tr><th scope=row>3</th><td>37</td><td>Yes</td><td><span style=white-space:pre-wrap>Travel_Rarely    </span></td><td>1373</td><td>Research &amp; Development</td><td>2</td><td>2</td><td><span style=white-space:pre-wrap>Other        </span></td><td>1</td><td>4</td><td>⋯</td><td>2</td><td>80</td><td>0</td><td> 7</td><td>3</td><td>3</td><td> 0</td><td>0</td><td>0</td><td>0</td></tr>\n",
       "\t<tr><th scope=row>4</th><td>33</td><td>No </td><td>Travel_Frequently</td><td>1392</td><td>Research &amp; Development</td><td>3</td><td>4</td><td>Life Sciences</td><td>1</td><td>5</td><td>⋯</td><td>3</td><td>80</td><td>0</td><td> 8</td><td>3</td><td>3</td><td> 8</td><td>7</td><td>3</td><td>0</td></tr>\n",
       "\t<tr><th scope=row>5</th><td>27</td><td>No </td><td><span style=white-space:pre-wrap>Travel_Rarely    </span></td><td> 591</td><td>Research &amp; Development</td><td>2</td><td>1</td><td><span style=white-space:pre-wrap>Medical      </span></td><td>1</td><td>7</td><td>⋯</td><td>4</td><td>80</td><td>1</td><td> 6</td><td>3</td><td>3</td><td> 2</td><td>2</td><td>2</td><td>2</td></tr>\n",
       "\t<tr><th scope=row>6</th><td>32</td><td>No </td><td>Travel_Frequently</td><td>1005</td><td>Research &amp; Development</td><td>2</td><td>2</td><td>Life Sciences</td><td>1</td><td>8</td><td>⋯</td><td>3</td><td>80</td><td>0</td><td> 8</td><td>2</td><td>2</td><td> 7</td><td>7</td><td>3</td><td>6</td></tr>\n",
       "</tbody>\n",
       "</table>\n"
      ],
      "text/latex": [
       "A data.frame: 6 × 35\n",
       "\\begin{tabular}{r|lllllllllllllllllllll}\n",
       "  & Age & Attrition & BusinessTravel & DailyRate & Department & DistanceFromHome & Education & EducationField & EmployeeCount & EmployeeNumber & ⋯ & RelationshipSatisfaction & StandardHours & StockOptionLevel & TotalWorkingYears & TrainingTimesLastYear & WorkLifeBalance & YearsAtCompany & YearsInCurrentRole & YearsSinceLastPromotion & YearsWithCurrManager\\\\\n",
       "  & <int> & <chr> & <chr> & <int> & <chr> & <int> & <int> & <chr> & <int> & <int> & ⋯ & <int> & <int> & <int> & <int> & <int> & <int> & <int> & <int> & <int> & <int>\\\\\n",
       "\\hline\n",
       "\t1 & 41 & Yes & Travel\\_Rarely     & 1102 & Sales                  & 1 & 2 & Life Sciences & 1 & 1 & ⋯ & 1 & 80 & 0 &  8 & 0 & 1 &  6 & 4 & 0 & 5\\\\\n",
       "\t2 & 49 & No  & Travel\\_Frequently &  279 & Research \\& Development & 8 & 1 & Life Sciences & 1 & 2 & ⋯ & 4 & 80 & 1 & 10 & 3 & 3 & 10 & 7 & 1 & 7\\\\\n",
       "\t3 & 37 & Yes & Travel\\_Rarely     & 1373 & Research \\& Development & 2 & 2 & Other         & 1 & 4 & ⋯ & 2 & 80 & 0 &  7 & 3 & 3 &  0 & 0 & 0 & 0\\\\\n",
       "\t4 & 33 & No  & Travel\\_Frequently & 1392 & Research \\& Development & 3 & 4 & Life Sciences & 1 & 5 & ⋯ & 3 & 80 & 0 &  8 & 3 & 3 &  8 & 7 & 3 & 0\\\\\n",
       "\t5 & 27 & No  & Travel\\_Rarely     &  591 & Research \\& Development & 2 & 1 & Medical       & 1 & 7 & ⋯ & 4 & 80 & 1 &  6 & 3 & 3 &  2 & 2 & 2 & 2\\\\\n",
       "\t6 & 32 & No  & Travel\\_Frequently & 1005 & Research \\& Development & 2 & 2 & Life Sciences & 1 & 8 & ⋯ & 3 & 80 & 0 &  8 & 2 & 2 &  7 & 7 & 3 & 6\\\\\n",
       "\\end{tabular}\n"
      ],
      "text/markdown": [
       "\n",
       "A data.frame: 6 × 35\n",
       "\n",
       "| <!--/--> | Age &lt;int&gt; | Attrition &lt;chr&gt; | BusinessTravel &lt;chr&gt; | DailyRate &lt;int&gt; | Department &lt;chr&gt; | DistanceFromHome &lt;int&gt; | Education &lt;int&gt; | EducationField &lt;chr&gt; | EmployeeCount &lt;int&gt; | EmployeeNumber &lt;int&gt; | ⋯ ⋯ | RelationshipSatisfaction &lt;int&gt; | StandardHours &lt;int&gt; | StockOptionLevel &lt;int&gt; | TotalWorkingYears &lt;int&gt; | TrainingTimesLastYear &lt;int&gt; | WorkLifeBalance &lt;int&gt; | YearsAtCompany &lt;int&gt; | YearsInCurrentRole &lt;int&gt; | YearsSinceLastPromotion &lt;int&gt; | YearsWithCurrManager &lt;int&gt; |\n",
       "|---|---|---|---|---|---|---|---|---|---|---|---|---|---|---|---|---|---|---|---|---|---|\n",
       "| 1 | 41 | Yes | Travel_Rarely     | 1102 | Sales                  | 1 | 2 | Life Sciences | 1 | 1 | ⋯ | 1 | 80 | 0 |  8 | 0 | 1 |  6 | 4 | 0 | 5 |\n",
       "| 2 | 49 | No  | Travel_Frequently |  279 | Research &amp; Development | 8 | 1 | Life Sciences | 1 | 2 | ⋯ | 4 | 80 | 1 | 10 | 3 | 3 | 10 | 7 | 1 | 7 |\n",
       "| 3 | 37 | Yes | Travel_Rarely     | 1373 | Research &amp; Development | 2 | 2 | Other         | 1 | 4 | ⋯ | 2 | 80 | 0 |  7 | 3 | 3 |  0 | 0 | 0 | 0 |\n",
       "| 4 | 33 | No  | Travel_Frequently | 1392 | Research &amp; Development | 3 | 4 | Life Sciences | 1 | 5 | ⋯ | 3 | 80 | 0 |  8 | 3 | 3 |  8 | 7 | 3 | 0 |\n",
       "| 5 | 27 | No  | Travel_Rarely     |  591 | Research &amp; Development | 2 | 1 | Medical       | 1 | 7 | ⋯ | 4 | 80 | 1 |  6 | 3 | 3 |  2 | 2 | 2 | 2 |\n",
       "| 6 | 32 | No  | Travel_Frequently | 1005 | Research &amp; Development | 2 | 2 | Life Sciences | 1 | 8 | ⋯ | 3 | 80 | 0 |  8 | 2 | 2 |  7 | 7 | 3 | 6 |\n",
       "\n"
      ],
      "text/plain": [
       "  Age Attrition BusinessTravel    DailyRate Department            \n",
       "1 41  Yes       Travel_Rarely     1102      Sales                 \n",
       "2 49  No        Travel_Frequently  279      Research & Development\n",
       "3 37  Yes       Travel_Rarely     1373      Research & Development\n",
       "4 33  No        Travel_Frequently 1392      Research & Development\n",
       "5 27  No        Travel_Rarely      591      Research & Development\n",
       "6 32  No        Travel_Frequently 1005      Research & Development\n",
       "  DistanceFromHome Education EducationField EmployeeCount EmployeeNumber ⋯\n",
       "1 1                2         Life Sciences  1             1              ⋯\n",
       "2 8                1         Life Sciences  1             2              ⋯\n",
       "3 2                2         Other          1             4              ⋯\n",
       "4 3                4         Life Sciences  1             5              ⋯\n",
       "5 2                1         Medical        1             7              ⋯\n",
       "6 2                2         Life Sciences  1             8              ⋯\n",
       "  RelationshipSatisfaction StandardHours StockOptionLevel TotalWorkingYears\n",
       "1 1                        80            0                 8               \n",
       "2 4                        80            1                10               \n",
       "3 2                        80            0                 7               \n",
       "4 3                        80            0                 8               \n",
       "5 4                        80            1                 6               \n",
       "6 3                        80            0                 8               \n",
       "  TrainingTimesLastYear WorkLifeBalance YearsAtCompany YearsInCurrentRole\n",
       "1 0                     1                6             4                 \n",
       "2 3                     3               10             7                 \n",
       "3 3                     3                0             0                 \n",
       "4 3                     3                8             7                 \n",
       "5 3                     3                2             2                 \n",
       "6 2                     2                7             7                 \n",
       "  YearsSinceLastPromotion YearsWithCurrManager\n",
       "1 0                       5                   \n",
       "2 1                       7                   \n",
       "3 0                       0                   \n",
       "4 3                       0                   \n",
       "5 2                       2                   \n",
       "6 3                       6                   "
      ]
     },
     "metadata": {},
     "output_type": "display_data"
    },
    {
     "data": {
      "text/html": [
       "1470"
      ],
      "text/latex": [
       "1470"
      ],
      "text/markdown": [
       "1470"
      ],
      "text/plain": [
       "[1] 1470"
      ]
     },
     "metadata": {},
     "output_type": "display_data"
    },
    {
     "data": {
      "text/html": [
       "35"
      ],
      "text/latex": [
       "35"
      ],
      "text/markdown": [
       "35"
      ],
      "text/plain": [
       "[1] 35"
      ]
     },
     "metadata": {},
     "output_type": "display_data"
    }
   ],
   "source": [
    "data <- read.csv(\"Data/HR-Employee-Attrition.csv\")\n",
    "head(data)\n",
    "nrow(data)\n",
    "ncol(data)"
   ]
  },
  {
   "cell_type": "markdown",
   "id": "69693e2a-1a0c-4380-ae88-0ed753de2f47",
   "metadata": {},
   "source": [
    "Our assigned dataset contains data on educational backgrounds, work history, such as joining year, payment info, experience, etc, and some demographic information of employees in a company. The dataset mostly contains numerical data entries, however, some attributes are categorical. Thus we decided on some topic questions to try to answer with our report:\n",
    "\n",
    "- Is the daily amount an employee gets paid associated with their level of education and gender?\n",
    "- Is an employees commute time associated with their relationship satisfaction?\n",
    "- Is an employess number of promotions associated with their age and area of study (education feild)?\n"
   ]
  },
  {
   "cell_type": "markdown",
   "id": "4d569384-b5ca-43ec-883c-a138a8182045",
   "metadata": {},
   "source": [
    "## Sign\n",
    "\n",
    "- Yoonha Jeon\n",
    "- Bektas Kaan Yilmaz\n",
    "- Ryan Fraser\n",
    "- Carter Gunning"
   ]
  },
  {
   "cell_type": "code",
   "execution_count": null,
   "id": "73665624-a189-4dbe-819e-e836c40df867",
   "metadata": {},
   "outputs": [],
   "source": []
  }
 ],
 "metadata": {
  "kernelspec": {
   "display_name": "R",
   "language": "R",
   "name": "ir"
  },
  "language_info": {
   "codemirror_mode": "r",
   "file_extension": ".r",
   "mimetype": "text/x-r-source",
   "name": "R",
   "pygments_lexer": "r",
   "version": "4.2.3"
  }
 },
 "nbformat": 4,
 "nbformat_minor": 5
}
